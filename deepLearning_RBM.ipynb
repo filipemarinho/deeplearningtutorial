{
  "nbformat": 4,
  "nbformat_minor": 0,
  "metadata": {
    "colab": {
      "name": "deepLearning_RBM.ipynb",
      "version": "0.3.2",
      "provenance": [],
      "collapsed_sections": [],
      "toc_visible": true,
      "machine_shape": "hm",
      "include_colab_link": true
    },
    "kernelspec": {
      "name": "python3",
      "display_name": "Python 3"
    }
  },
  "cells": [
    {
      "cell_type": "markdown",
      "metadata": {
        "id": "view-in-github",
        "colab_type": "text"
      },
      "source": [
        "<a href=\"https://colab.research.google.com/github/hfarruda/deeplearningtutorial/blob/master/deepLearning_RBM.ipynb\" target=\"_parent\"><img src=\"https://colab.research.google.com/assets/colab-badge.svg\" alt=\"Open In Colab\"/></a>"
      ]
    },
    {
      "cell_type": "markdown",
      "metadata": {
        "id": "gEAyw_qVOune",
        "colab_type": "text"
      },
      "source": [
        "#  Recursive Boltzmann Machine\n",
        "\n",
        "This example is part of the [*Deep Learning Tutorial*](https://github.com/hfarruda/deeplearningtutorial), authored by Henrique F. de Arruda, Alexandre Benatti, César Comin, and Luciano da Fontoura Costa.\n",
        "\n",
        "This is the fourth example of deep learning implementation. Here we use a RMB network to provide a recommendation system of musical instru-ments.\n",
        "\n",
        "First of all, we import the necessary libraries. Here we opt for using Keras (using TensorFlow backend)."
      ]
    },
    {
      "cell_type": "code",
      "metadata": {
        "id": "ZrAlRal5OawF",
        "colab_type": "code",
        "outputId": "6d76e466-b785-4700-a886-014fc00b1bba",
        "colab": {
          "base_uri": "https://localhost:8080/",
          "height": 34
        }
      },
      "source": [
        "import numpy as np\n",
        "import pandas as pd \n",
        "from sklearn.neural_network import BernoulliRBM\n",
        "import matplotlib.pyplot as plt\n",
        "import urllib.request\n",
        "from keras.utils import np_utils\n",
        "from sklearn.preprocessing import LabelEncoder"
      ],
      "execution_count": 0,
      "outputs": [
        {
          "output_type": "stream",
          "text": [
            "Using TensorFlow backend.\n"
          ],
          "name": "stderr"
        }
      ]
    },
    {
      "cell_type": "markdown",
      "metadata": {
        "id": "YVwCHYC4PC2p",
        "colab_type": "text"
      },
      "source": [
        "The following code downlods a dataset regarding the ratings of musical instruments from the Amazon website ([link](http://snap.stanford.edu/data/amazon/productGraph/)).\n",
        "These data is divided into four columns, as follows: user id, item id, rating, and timestamp. The latter was removed from our analysis."
      ]
    },
    {
      "cell_type": "code",
      "metadata": {
        "id": "idO1Jy8OmACn",
        "colab_type": "code",
        "colab": {}
      },
      "source": [
        "main_url = \"http://snap.stanford.edu/data/amazon/productGraph/categoryFiles/\"\n",
        "file_name = \"ratings_Musical_Instruments.csv\"\n",
        "url = main_url + file_name\n",
        "col_names = [\"user\", \"item\", \"rating\", \"timestamp\"]\n",
        "urllib.request.urlretrieve(url, file_name)\n",
        "musical_instruments_reviews = pd.read_csv(file_name, names = col_names)"
      ],
      "execution_count": 0,
      "outputs": []
    },
    {
      "cell_type": "markdown",
      "metadata": {
        "id": "9M7Il2QPtE_V",
        "colab_type": "text"
      },
      "source": [
        "In order to let this tutorial faster, we reduce the data (using only 10%), as follows."
      ]
    },
    {
      "cell_type": "code",
      "metadata": {
        "id": "CZW1fLvktR9M",
        "colab_type": "code",
        "colab": {}
      },
      "source": [
        "number_of_items = 20\n",
        "\n",
        "frac = 0.10#fraction of selected items\n",
        "\n",
        "\n",
        "#getting a sample\n",
        "musical_instruments_reviews = musical_instruments_reviews.sample(frac = frac)\n",
        "\n",
        "#Defining dataset variables\n",
        "rating = musical_instruments_reviews[\"rating\"].get_values()\n",
        "rating /= np.max(rating)\n",
        "\n",
        "users = musical_instruments_reviews[\"user\"].get_values()\n",
        "\n",
        "label_encoder = LabelEncoder()\n",
        "item = musical_instruments_reviews[\"item\"].get_values()\n",
        "item = label_encoder.fit_transform(item)\n",
        "\n",
        "#One hot encoding\n",
        "item_one_hot_encoding = np_utils.to_categorical(item)\n",
        "\n",
        "#keeping only the desired number of items\n",
        "item2count = np.sum(item_one_hot_encoding,axis = 0)\n",
        "selected_columns = np.argsort(item2count)[::-1]\n",
        "selected_columns = selected_columns[0:number_of_items]\n",
        "#Tterminar aqui...\n",
        "\n",
        "\n",
        "#Weightening the codings\n",
        "item_weighted = [item_one_hot_encoding[i] * rating[i] \n",
        "                 for i in range(len(rating))]\n",
        "\n",
        "item_weighted = np.array(item_weighted)\n",
        "\n",
        "user2table_lines = {user: np.argwhere(user == users).T[0]\n",
        "                    for user in set(users)}\n",
        "\n",
        "user2purchases = {user:np.max(item_weighted[user2table_lines[user]],axis = 0)\n",
        "                  for user in set(users)}"
      ],
      "execution_count": 0,
      "outputs": []
    },
    {
      "cell_type": "code",
      "metadata": {
        "id": "SpUGYStcDB1N",
        "colab_type": "code",
        "colab": {}
      },
      "source": [
        ""
      ],
      "execution_count": 0,
      "outputs": []
    },
    {
      "cell_type": "markdown",
      "metadata": {
        "id": "P50tKVux4Tym",
        "colab_type": "text"
      },
      "source": [
        "In the next step, we eliminate the data from users that bought a single item."
      ]
    },
    {
      "cell_type": "code",
      "metadata": {
        "id": "P-JHx3jch5NF",
        "colab_type": "code",
        "colab": {}
      },
      "source": [
        "keep_users = [key for key in user2table_lines.keys() \n",
        "               if len(user2table_lines[key]) != 1]\n",
        "\n",
        "user2purchases = {user:user2purchases[user] for user in keep_users}\n",
        "\n",
        "data = list(user2purchases.values())\n",
        "data = np.array(data)"
      ],
      "execution_count": 0,
      "outputs": []
    },
    {
      "cell_type": "markdown",
      "metadata": {
        "id": "IJHGmpNEI470",
        "colab_type": "text"
      },
      "source": [
        "The following code is employed to merge the products purchased by each of the purchasers. "
      ]
    },
    {
      "cell_type": "code",
      "metadata": {
        "id": "XUC1XBtAfe5p",
        "colab_type": "code",
        "colab": {}
      },
      "source": [
        "#finding columns only with zeros\n",
        "keep_positions = np.argwhere(np.sum(data,axis = 0) > 0).T[0]\n",
        "data = data[:,keep_positions]"
      ],
      "execution_count": 0,
      "outputs": []
    },
    {
      "cell_type": "markdown",
      "metadata": {
        "id": "c4vYUfk5IPbm",
        "colab_type": "text"
      },
      "source": [
        "The code presented as follows define the neuronal network."
      ]
    },
    {
      "cell_type": "code",
      "metadata": {
        "id": "1kWyDyoLXHr4",
        "colab_type": "code",
        "colab": {}
      },
      "source": [
        "batch_size = 128\n",
        "learning_rate = 0.001\n",
        "n_components = number_of_items #Number of binary hidden units.\n",
        "n_iter = 500\n",
        "verbose = 1\n",
        "\n",
        "rbm_model = BernoulliRBM(batch_size = batch_size, learning_rate = learning_rate,\n",
        "                         n_components = n_components, n_iter = n_iter, \n",
        "                         verbose = verbose)"
      ],
      "execution_count": 0,
      "outputs": []
    },
    {
      "cell_type": "markdown",
      "metadata": {
        "id": "MIdkh01haxd_",
        "colab_type": "text"
      },
      "source": [
        "Here, we present the training step."
      ]
    },
    {
      "cell_type": "code",
      "metadata": {
        "id": "4l-S8irOaw1g",
        "colab_type": "code",
        "outputId": "95b2b8dd-b629-4095-821c-efbd2f4f4d24",
        "colab": {
          "base_uri": "https://localhost:8080/",
          "height": 238
        }
      },
      "source": [
        "rbm_model.fit_transform(data)"
      ],
      "execution_count": 0,
      "outputs": [
        {
          "output_type": "execute_result",
          "data": {
            "text/plain": [
              "array([[0.10975768, 0.10930907, 0.10915918, ..., 0.10969742, 0.11036326,\n",
              "        0.10974015],\n",
              "       [0.1116634 , 0.11051105, 0.10793873, ..., 0.11058208, 0.10872965,\n",
              "        0.10900024],\n",
              "       [0.11241772, 0.11296757, 0.11212062, ..., 0.11192934, 0.11254311,\n",
              "        0.11190257],\n",
              "       ...,\n",
              "       [0.11207127, 0.11131264, 0.11106349, ..., 0.11139181, 0.11053445,\n",
              "        0.11086935],\n",
              "       [0.10877728, 0.1117522 , 0.11181915, ..., 0.11038228, 0.11217879,\n",
              "        0.11155387],\n",
              "       [0.10966244, 0.1108713 , 0.11112191, ..., 0.10956941, 0.11038618,\n",
              "        0.11176722]])"
            ]
          },
          "metadata": {
            "tags": []
          },
          "execution_count": 7
        }
      ]
    },
    {
      "cell_type": "markdown",
      "metadata": {
        "id": "Rh0B5eOoIV1d",
        "colab_type": "text"
      },
      "source": [
        "Finally, we test the network."
      ]
    },
    {
      "cell_type": "code",
      "metadata": {
        "id": "uB5NwfqIcoPd",
        "colab_type": "code",
        "colab": {}
      },
      "source": [
        "test_set = np.zeros(len(keep_positions))\n",
        "test_set[100] = 1\n",
        "a = rbm_model.transform([test_set])"
      ],
      "execution_count": 0,
      "outputs": []
    },
    {
      "cell_type": "code",
      "metadata": {
        "id": "PC6AAz7zZ3HT",
        "colab_type": "code",
        "outputId": "6810706a-928b-432d-9da8-54cc7428557d",
        "colab": {
          "base_uri": "https://localhost:8080/",
          "height": 303
        }
      },
      "source": [
        "plt.plot(a[0])\n",
        "plt.xlim(0,150)\n",
        "a"
      ],
      "execution_count": 0,
      "outputs": [
        {
          "output_type": "execute_result",
          "data": {
            "text/plain": [
              "array([[0.11038611, 0.11112356, 0.11126034, ..., 0.11115437, 0.1118898 ,\n",
              "        0.11029444]])"
            ]
          },
          "metadata": {
            "tags": []
          },
          "execution_count": 11
        },
        {
          "output_type": "display_data",
          "data": {
            "image/png": "[encoded data removed]",
            "text/plain": [
              "<Figure size 432x288 with 1 Axes>"
            ]
          },
          "metadata": {
            "tags": []
          }
        }
      ]
    },
    {
      "cell_type": "markdown",
      "metadata": {
        "id": "wLKsY9HAWObq",
        "colab_type": "text"
      },
      "source": [
        "## License\n",
        "\n",
        "This Deep Learning Tutorial is licensed under a Creative Commons Attribution-NonCommercial-NoDerivatives 4.0 (CC BY-NC-ND 4.0) International License."
      ]
    }
  ]
}