{
  "nbformat": 4,
  "nbformat_minor": 0,
  "metadata": {
    "colab": {
      "name": "deepLearning_GAN.ipynb",
      "version": "0.3.2",
      "provenance": [],
      "collapsed_sections": [],
      "toc_visible": true,
      "include_colab_link": true
    },
    "kernelspec": {
      "name": "python3",
      "display_name": "Python 3"
    },
    "accelerator": "GPU"
  },
  "cells": [
    {
      "cell_type": "markdown",
      "metadata": {
        "id": "view-in-github",
        "colab_type": "text"
      },
      "source": [
        "<a href=\"https://colab.research.google.com/github/hfarruda/deeplearningtutorial/blob/master/deepLearning_GAN.ipynb\" target=\"_parent\"><img src=\"https://colab.research.google.com/assets/colab-badge.svg\" alt=\"Open In Colab\"/></a>"
      ]
    },
    {
      "cell_type": "markdown",
      "metadata": {
        "id": "6snJPOhSX1-k",
        "colab_type": "text"
      },
      "source": [
        "#  Generative Adversarial Networks\n",
        "This example is part of the [*Deep Learning Tutorial*](https://github.com/hfarruda/deeplearningtutorial), authored by Henrique F. de Arruda, Alexandre Benatti, César Comin, and Luciano da Fontoura Costa.\n",
        "\n",
        "It was elaborated to create a network that can generate handwritten characters automatically.\n",
        "\n",
        "\n",
        "First of all, we import the necessary libraries. Here we opt for using Keras (using TensorFlow backend). "
      ]
    },
    {
      "cell_type": "code",
      "metadata": {
        "id": "d9Y2iDK8Xtxo",
        "colab_type": "code",
        "colab": {}
      },
      "source": [
        "import numpy as np\n",
        "import pandas as pd \n",
        "import keras\n",
        "from keras.models import Sequential, model_from_json\n",
        "from keras.utils.vis_utils import plot_model\n",
        "from keras.datasets import mnist\n",
        "from keras.layers import InputLayer, Dense, Flatten, Reshape, Input, Dropout\n",
        "from keras.layers.advanced_activations import LeakyReLU\n",
        "from keras.layers import BatchNormalization\n",
        "from keras.models import Model,Sequential\n",
        "from keras.regularizers import L1L2\n",
        "from sklearn.model_selection import train_test_split\n",
        "from sklearn.metrics import accuracy_score\n",
        "from sklearn.preprocessing import MinMaxScaler\n",
        "import matplotlib.pyplot as plt\n",
        "import cv2 "
      ],
      "execution_count": 0,
      "outputs": []
    },
    {
      "cell_type": "markdown",
      "metadata": {
        "id": "YbavlsFUwLL5",
        "colab_type": "text"
      },
      "source": [
        "If you have a GPU, you can use the following code to allocate processing into it.  Otherwise, proceed to (*)."
      ]
    },
    {
      "cell_type": "code",
      "metadata": {
        "id": "1s4IcXtXwKms",
        "colab_type": "code",
        "outputId": "11781247-00af-42b3-9cc4-7155ae3e4979",
        "colab": {
          "base_uri": "https://localhost:8080/",
          "height": 34
        }
      },
      "source": [
        "import tensorflow as tf \n",
        "from keras import backend as K\n",
        "\n",
        "print(K.tensorflow_backend._get_available_gpus())\n",
        "\n",
        "number_of_cpu_cores = 8\n",
        "config = tf.ConfigProto(device_count = {'GPU': 1 , 'CPU': number_of_cpu_cores}) \n",
        "session = tf.Session(config=config) \n",
        "keras.backend.set_session(session)"
      ],
      "execution_count": 0,
      "outputs": [
        {
          "output_type": "stream",
          "text": [
            "['/job:localhost/replica:0/task:0/device:GPU:0']\n"
          ],
          "name": "stdout"
        }
      ]
    },
    {
      "cell_type": "markdown",
      "metadata": {
        "id": "Q34xwESqb6Yd",
        "colab_type": "text"
      },
      "source": [
        "(*) In this example we used the MNIST database in which it is composed by grayscale images of the 10 handwritten digits. It is available at Keras library on [keras-datasets](https://keras.io/datasets/).\n",
        "\n",
        "The following command is used to load the data set."
      ]
    },
    {
      "cell_type": "code",
      "metadata": {
        "id": "6NVQ_qsXd9JM",
        "colab_type": "code",
        "colab": {}
      },
      "source": [
        "(train_data_raw, train_target_raw), (_, _) = mnist.load_data()"
      ],
      "execution_count": 0,
      "outputs": []
    },
    {
      "cell_type": "markdown",
      "metadata": {
        "id": "OFgXvWsDyKV-",
        "colab_type": "text"
      },
      "source": [
        "Because this code consumes too much of processing time, here we considered only the zeros and ones."
      ]
    },
    {
      "cell_type": "code",
      "metadata": {
        "id": "7YYmA9nKccfz",
        "colab_type": "code",
        "colab": {}
      },
      "source": [
        "train_data = [img for i, img in enumerate(train_data_raw) \n",
        "              if train_target_raw[i] == 0 or train_target_raw[i] == 1]\n",
        "train_data = np.array(train_data)"
      ],
      "execution_count": 0,
      "outputs": []
    },
    {
      "cell_type": "markdown",
      "metadata": {
        "id": "ddp7ztHvw5FT",
        "colab_type": "text"
      },
      "source": [
        "In order to visualize a given figure, the following code can be executed."
      ]
    },
    {
      "cell_type": "code",
      "metadata": {
        "id": "F09KdG8_fdhD",
        "colab_type": "code",
        "outputId": "d6c29e3b-4284-473e-cfe5-fdf151f79e13",
        "colab": {
          "base_uri": "https://localhost:8080/",
          "height": 118
        }
      },
      "source": [
        "image_id = 1000\n",
        "plt.figure(figsize = (1,1))\n",
        "plt.imshow(train_data[image_id], cmap='gray')\n",
        "plt.title(\"Test image: \" + str(image_id))\n",
        "#plt.axis('off')\n",
        "plt.show()"
      ],
      "execution_count": 0,
      "outputs": [
        {
          "output_type": "display_data",
          "data": {
            "image/png": "[encoded data removed]",
            "text/plain": [
              "<Figure size 72x72 with 1 Axes>"
            ]
          },
          "metadata": {
            "tags": []
          }
        }
      ]
    },
    {
      "cell_type": "markdown",
      "metadata": {
        "id": "Ee1Uj-yUw940",
        "colab_type": "text"
      },
      "source": [
        "Definition of the used variables."
      ]
    },
    {
      "cell_type": "code",
      "metadata": {
        "id": "0FS4sGH3w-T1",
        "colab_type": "code",
        "colab": {}
      },
      "source": [
        "input_shape = train_data.shape[1::]\n",
        "activation_output_generator = 'sigmoid'\n",
        "activation_output_discrimninator = 'sigmoid'\n",
        "input_dim = 50\n",
        "number_of_epochs = 1000\n",
        "batch_size = 100\n",
        "train_data = train_data.astype('float32') / 255"
      ],
      "execution_count": 0,
      "outputs": []
    },
    {
      "cell_type": "markdown",
      "metadata": {
        "id": "lwNQJ042hMp5",
        "colab_type": "text"
      },
      "source": [
        "In the following, we present the generator model."
      ]
    },
    {
      "cell_type": "code",
      "metadata": {
        "id": "La0qUyS2hMWP",
        "colab_type": "code",
        "colab": {}
      },
      "source": [
        "generator_model = Sequential()\n",
        "\n",
        "generator_model.add(Dense(units=64,input_dim = input_dim, \n",
        "                          kernel_regularizer = L1L2(1e-5, 1e-5)))\n",
        "generator_model.add(BatchNormalization())\n",
        "generator_model.add(LeakyReLU(alpha=0.3))\n",
        "\n",
        "generator_model.add(Dense(units=128, kernel_regularizer = L1L2(1e-5, 1e-5)))\n",
        "generator_model.add(BatchNormalization())\n",
        "generator_model.add(LeakyReLU(alpha=0.3))\n",
        "\n",
        "generator_model.add(Dense(units=256, kernel_regularizer = L1L2(1e-5, 1e-5)))\n",
        "generator_model.add(BatchNormalization())\n",
        "generator_model.add(LeakyReLU(alpha=0.3))\n",
        "\n",
        "generator_model.add(Dense(units = input_shape[0] * input_shape[1], \n",
        "                          activation = activation_output_generator))\n",
        "\n",
        "generator_model.add(Reshape(input_shape))\n",
        "\n",
        "generator_model.compile(loss='binary_crossentropy', optimizer=\"adam\")"
      ],
      "execution_count": 0,
      "outputs": []
    },
    {
      "cell_type": "markdown",
      "metadata": {
        "id": "S47XpkuFhcf_",
        "colab_type": "text"
      },
      "source": [
        "The summary of the generator model is shown by employing the following code."
      ]
    },
    {
      "cell_type": "code",
      "metadata": {
        "id": "Dllo6b79hj-O",
        "colab_type": "code",
        "outputId": "98008965-83de-46f8-922e-47e67797c456",
        "colab": {
          "base_uri": "https://localhost:8080/",
          "height": 527
        }
      },
      "source": [
        "generator_model.summary()"
      ],
      "execution_count": 0,
      "outputs": [
        {
          "output_type": "stream",
          "text": [
            "Model: \"sequential_9\"\n",
            "_________________________________________________________________\n",
            "Layer (type)                 Output Shape              Param #   \n",
            "=================================================================\n",
            "dense_33 (Dense)             (None, 64)                3264      \n",
            "_________________________________________________________________\n",
            "batch_normalization_13 (Batc (None, 64)                256       \n",
            "_________________________________________________________________\n",
            "leaky_re_lu_25 (LeakyReLU)   (None, 64)                0         \n",
            "_________________________________________________________________\n",
            "dense_34 (Dense)             (None, 128)               8320      \n",
            "_________________________________________________________________\n",
            "batch_normalization_14 (Batc (None, 128)               512       \n",
            "_________________________________________________________________\n",
            "leaky_re_lu_26 (LeakyReLU)   (None, 128)               0         \n",
            "_________________________________________________________________\n",
            "dense_35 (Dense)             (None, 256)               33024     \n",
            "_________________________________________________________________\n",
            "batch_normalization_15 (Batc (None, 256)               1024      \n",
            "_________________________________________________________________\n",
            "leaky_re_lu_27 (LeakyReLU)   (None, 256)               0         \n",
            "_________________________________________________________________\n",
            "dense_36 (Dense)             (None, 784)               201488    \n",
            "_________________________________________________________________\n",
            "reshape_5 (Reshape)          (None, 28, 28)            0         \n",
            "=================================================================\n",
            "Total params: 247,888\n",
            "Trainable params: 246,992\n",
            "Non-trainable params: 896\n",
            "_________________________________________________________________\n"
          ],
          "name": "stdout"
        }
      ]
    },
    {
      "cell_type": "markdown",
      "metadata": {
        "id": "nKzAMwfvsxqs",
        "colab_type": "text"
      },
      "source": [
        "The following code represents the discriminator model."
      ]
    },
    {
      "cell_type": "code",
      "metadata": {
        "id": "uSLEkiglh7UI",
        "colab_type": "code",
        "colab": {}
      },
      "source": [
        "discriminator_model = Sequential()\n",
        "discriminator_model.add(InputLayer(input_shape = input_shape))\n",
        "discriminator_model.add(Flatten())\n",
        "\n",
        "discriminator_model.add(Dense(units=256,kernel_regularizer = L1L2(1e-5, 1e-5)))\n",
        "discriminator_model.add(LeakyReLU(alpha=0.3))\n",
        "discriminator_model.add(Dropout(0.2))\n",
        "\n",
        "\n",
        "discriminator_model.add(Dense(units=128,kernel_regularizer = L1L2(1e-5, 1e-5)))\n",
        "discriminator_model.add(LeakyReLU(alpha=0.3))\n",
        "discriminator_model.add(Dropout(0.2))\n",
        "\n",
        "discriminator_model.add(Dense(units=64,kernel_regularizer = L1L2(1e-5, 1e-5)))\n",
        "discriminator_model.add(LeakyReLU(alpha=0.3))\n",
        "\n",
        "discriminator_model.add(Dense(units=1, \n",
        "                              activation = activation_output_discrimninator))\n",
        "\n",
        "discriminator_model.compile(loss='binary_crossentropy', \n",
        "                            optimizer = \"adam\")"
      ],
      "execution_count": 0,
      "outputs": []
    },
    {
      "cell_type": "markdown",
      "metadata": {
        "id": "3J_e4c3SiDzI",
        "colab_type": "text"
      },
      "source": [
        "The summary of the discriminator model is shown by using the following code."
      ]
    },
    {
      "cell_type": "code",
      "metadata": {
        "id": "1ouhcw-9iJcl",
        "colab_type": "code",
        "outputId": "df317cf4-f192-46fc-f5b1-2155e349998f",
        "colab": {
          "base_uri": "https://localhost:8080/",
          "height": 493
        }
      },
      "source": [
        "discriminator_model.summary()"
      ],
      "execution_count": 0,
      "outputs": [
        {
          "output_type": "stream",
          "text": [
            "Model: \"sequential_10\"\n",
            "_________________________________________________________________\n",
            "Layer (type)                 Output Shape              Param #   \n",
            "=================================================================\n",
            "flatten_5 (Flatten)          (None, 784)               0         \n",
            "_________________________________________________________________\n",
            "dense_37 (Dense)             (None, 256)               200960    \n",
            "_________________________________________________________________\n",
            "leaky_re_lu_28 (LeakyReLU)   (None, 256)               0         \n",
            "_________________________________________________________________\n",
            "dropout_9 (Dropout)          (None, 256)               0         \n",
            "_________________________________________________________________\n",
            "dense_38 (Dense)             (None, 128)               32896     \n",
            "_________________________________________________________________\n",
            "leaky_re_lu_29 (LeakyReLU)   (None, 128)               0         \n",
            "_________________________________________________________________\n",
            "dropout_10 (Dropout)         (None, 128)               0         \n",
            "_________________________________________________________________\n",
            "dense_39 (Dense)             (None, 64)                8256      \n",
            "_________________________________________________________________\n",
            "leaky_re_lu_30 (LeakyReLU)   (None, 64)                0         \n",
            "_________________________________________________________________\n",
            "dense_40 (Dense)             (None, 1)                 65        \n",
            "=================================================================\n",
            "Total params: 242,177\n",
            "Trainable params: 242,177\n",
            "Non-trainable params: 0\n",
            "_________________________________________________________________\n"
          ],
          "name": "stdout"
        }
      ]
    },
    {
      "cell_type": "markdown",
      "metadata": {
        "id": "niIy42YbiSAi",
        "colab_type": "text"
      },
      "source": [
        "The following code represents the complete gan model."
      ]
    },
    {
      "cell_type": "code",
      "metadata": {
        "id": "jokcnP7Oic6g",
        "colab_type": "code",
        "colab": {}
      },
      "source": [
        "gan_input = Input(shape = (input_dim,))\n",
        "gan_output= discriminator_model(generator_model(gan_input))\n",
        "gan = Model(inputs = gan_input, outputs = gan_output)\n",
        "gan.compile(loss = 'binary_crossentropy', optimizer = 'adam')"
      ],
      "execution_count": 0,
      "outputs": []
    },
    {
      "cell_type": "markdown",
      "metadata": {
        "id": "Z2yCHLa2ihBW",
        "colab_type": "text"
      },
      "source": [
        "The summary of the gan model is shown by using the following code."
      ]
    },
    {
      "cell_type": "code",
      "metadata": {
        "id": "6qh1aDCwihWX",
        "colab_type": "code",
        "outputId": "0a8fc89d-1fc1-41dd-cbf0-4b320e074e9d",
        "colab": {
          "base_uri": "https://localhost:8080/",
          "height": 255
        }
      },
      "source": [
        "gan.summary()"
      ],
      "execution_count": 0,
      "outputs": [
        {
          "output_type": "stream",
          "text": [
            "Model: \"model_5\"\n",
            "_________________________________________________________________\n",
            "Layer (type)                 Output Shape              Param #   \n",
            "=================================================================\n",
            "input_10 (InputLayer)        (None, 50)                0         \n",
            "_________________________________________________________________\n",
            "sequential_9 (Sequential)    (None, 28, 28)            247888    \n",
            "_________________________________________________________________\n",
            "sequential_10 (Sequential)   (None, 1)                 242177    \n",
            "=================================================================\n",
            "Total params: 490,065\n",
            "Trainable params: 489,169\n",
            "Non-trainable params: 896\n",
            "_________________________________________________________________\n"
          ],
          "name": "stdout"
        }
      ]
    },
    {
      "cell_type": "markdown",
      "metadata": {
        "id": "zzJedNDOivAC",
        "colab_type": "text"
      },
      "source": [
        "The following is the training step of the gan."
      ]
    },
    {
      "cell_type": "code",
      "metadata": {
        "id": "7-heB9oQivwj",
        "colab_type": "code",
        "outputId": "6170a876-2f09-4958-d1f7-1387d7941108",
        "colab": {
          "base_uri": "https://localhost:8080/",
          "height": 1000
        }
      },
      "source": [
        "y = np.ones(batch_size)\n",
        "\n",
        "#Parameters of the noise distribution\n",
        "mu = 0\n",
        "sigma = 1\n",
        "\n",
        "#We created this array to avoid number repetitions\n",
        "train_indices = np.arange(train_data.shape[0])\n",
        "np.random.shuffle(train_indices)\n",
        "\n",
        "#Here we define the labels used to train the gan\n",
        "train_labels = np.zeros(2*batch_size,dtype = int)\n",
        "train_labels[0:batch_size] = 1#generated images\n",
        "\n",
        "for epoch in range(number_of_epochs):\n",
        "    print(\"\\rEpoch:\", epoch + 1, \"of\", number_of_epochs, end = '')\n",
        "    for _ in range(batch_size):\n",
        "        input_noise = np.random.normal(loc = mu, scale = sigma, \n",
        "                                       size = [batch_size, input_dim])\n",
        "        generated_images = generator_model.predict(input_noise)\n",
        "        np.random.shuffle(train_indices)\n",
        "        image_batch = train_data[train_indices[0:batch_size]]\n",
        "        train_images = np.concatenate((image_batch, generated_images))\n",
        "        #Training the discriminator\n",
        "        discriminator_model.trainable = True\n",
        "        discriminator_model.train_on_batch(train_images, train_labels)\n",
        "        #Training the gan\n",
        "        discriminator_model.trainable = False\n",
        "        train_noise = np.random.normal(loc = mu, scale = sigma, \n",
        "                                       size =  [batch_size, input_dim])\n",
        "        gan.train_on_batch(train_noise, y)\n",
        "\n",
        "  #In order to visualize the training progress, we employ the following code.\n",
        "    if epoch % 100 == 0:\n",
        "        n_examples = 10\n",
        "        scale_image = 1 * n_examples\n",
        "        noise= np.random.normal(loc = mu, scale = sigma, \n",
        "                                size = (n_examples, input_dim))\n",
        "        generated_images = generator_model.predict(noise)\n",
        "        n_pixels = generated_images.shape[1]\n",
        "        n_pixels_col = np.int(np.sqrt(n_pixels))\n",
        "        fig, axes = plt.subplots(1,n_examples, \n",
        "                                 figsize = (scale_image, \n",
        "                                            scale_image * n_examples))\n",
        "    for i in range(generated_images.shape[0]):\n",
        "        axes[i].imshow(generated_images[i], cmap = \"gray\")\n",
        "        axes[i].axis('off')\n",
        "    plt.show()\n",
        "print(\"\")"
      ],
      "execution_count": 0,
      "outputs": [
        {
          "output_type": "stream",
          "text": [
            "\rEpoch: 1 of 1000"
          ],
          "name": "stdout"
        },
        {
          "output_type": "stream",
          "text": [
            "/usr/local/lib/python3.6/dist-packages/keras/engine/training.py:493: UserWarning: Discrepancy between trainable weights and collected trainable weights, did you set `model.trainable` without calling `model.compile` after ?\n",
            "  'Discrepancy between trainable weights and collected trainable'\n",
            "/usr/local/lib/python3.6/dist-packages/keras/engine/training.py:493: UserWarning: Discrepancy between trainable weights and collected trainable weights, did you set `model.trainable` without calling `model.compile` after ?\n",
            "  'Discrepancy between trainable weights and collected trainable'\n"
          ],
          "name": "stderr"
        },
        {
          "output_type": "display_data",
          "data": {
            "image/png": "[encoded data removed]",
            "text/plain": [
              "<Figure size 720x7200 with 10 Axes>"
            ]
          },
          "metadata": {
            "tags": []
          }
        },
        {
          "output_type": "stream",
          "text": [
            "Epoch: 101 of 1000"
          ],
          "name": "stdout"
        },
        {
          "output_type": "display_data",
          "data": {
            "image/png": "[encoded data removed]",
            "text/plain": [
              "<Figure size 720x7200 with 10 Axes>"
            ]
          },
          "metadata": {
            "tags": []
          }
        },
        {
          "output_type": "stream",
          "text": [
            "Epoch: 201 of 1000"
          ],
          "name": "stdout"
        },
        {
          "output_type": "display_data",
          "data": {
            "image/png": "[encoded data removed]",
            "text/plain": [
              "<Figure size 720x7200 with 10 Axes>"
            ]
          },
          "metadata": {
            "tags": []
          }
        },
        {
          "output_type": "stream",
          "text": [
            "Epoch: 301 of 1000"
          ],
          "name": "stdout"
        },
        {
          "output_type": "display_data",
          "data": {
            "image/png": "[encoded data removed]",
            "text/plain": [
              "<Figure size 720x7200 with 10 Axes>"
            ]
          },
          "metadata": {
            "tags": []
          }
        },
        {
          "output_type": "stream",
          "text": [
            "Epoch: 401 of 1000"
          ],
          "name": "stdout"
        },
        {
          "output_type": "display_data",
          "data": {
            "image/png": "[encoded data removed]",
            "text/plain": [
              "<Figure size 720x7200 with 10 Axes>"
            ]
          },
          "metadata": {
            "tags": []
          }
        },
        {
          "output_type": "stream",
          "text": [
            "Epoch: 501 of 1000"
          ],
          "name": "stdout"
        },
        {
          "output_type": "display_data",
          "data": {
            "image/png": "[encoded data removed]",
            "text/plain": [
              "<Figure size 720x7200 with 10 Axes>"
            ]
          },
          "metadata": {
            "tags": []
          }
        },
        {
          "output_type": "stream",
          "text": [
            "Epoch: 601 of 1000"
          ],
          "name": "stdout"
        },
        {
          "output_type": "display_data",
          "data": {
            "image/png": "[encoded data removed]",
            "text/plain": [
              "<Figure size 720x7200 with 10 Axes>"
            ]
          },
          "metadata": {
            "tags": []
          }
        },
        {
          "output_type": "stream",
          "text": [
            "Epoch: 701 of 1000"
          ],
          "name": "stdout"
        },
        {
          "output_type": "display_data",
          "data": {
            "image/png": "[encoded data removed]",
            "text/plain": [
              "<Figure size 720x7200 with 10 Axes>"
            ]
          },
          "metadata": {
            "tags": []
          }
        },
        {
          "output_type": "stream",
          "text": [
            "Epoch: 801 of 1000"
          ],
          "name": "stdout"
        },
        {
          "output_type": "display_data",
          "data": {
            "image/png": "[encoded data removed]",
            "text/plain": [
              "<Figure size 720x7200 with 10 Axes>"
            ]
          },
          "metadata": {
            "tags": []
          }
        },
        {
          "output_type": "stream",
          "text": [
            "Epoch: 901 of 1000"
          ],
          "name": "stdout"
        },
        {
          "output_type": "display_data",
          "data": {
            "image/png": "[encoded data removed]",
            "text/plain": [
              "<Figure size 720x7200 with 10 Axes>"
            ]
          },
          "metadata": {
            "tags": []
          }
        },
        {
          "output_type": "stream",
          "text": [
            "Epoch: 1000 of 1000\n"
          ],
          "name": "stdout"
        }
      ]
    },
    {
      "cell_type": "markdown",
      "metadata": {
        "id": "e0EwkI11i5-o",
        "colab_type": "text"
      },
      "source": [
        "In order to generate the figures the following code can be employed."
      ]
    },
    {
      "cell_type": "code",
      "metadata": {
        "id": "ksJsjVMV17UL",
        "colab_type": "code",
        "outputId": "b9348cf8-87c7-41d1-b5cb-03469d3c9493",
        "colab": {
          "base_uri": "https://localhost:8080/",
          "height": 99
        }
      },
      "source": [
        "n_examples = 5\n",
        "scale_image = 5\n",
        "noise= np.random.normal(loc = mu, scale = sigma, size = (n_examples, input_dim))\n",
        "generated_images = generator_model.predict(noise)\n",
        "\n",
        "fig, axes = plt.subplots(1,n_examples,\n",
        "                         figsize = (scale_image, scale_image * n_examples))\n",
        "for i in range(generated_images.shape[0]):\n",
        "    axes[i].imshow(generated_images[i], cmap = \"gray\")\n",
        "    axes[i].axis('off')\n",
        "\n",
        "plt.show()"
      ],
      "execution_count": 83,
      "outputs": [
        {
          "output_type": "display_data",
          "data": {
            "image/png": "[encoded data removed]",
            "text/plain": [
              "<Figure size 360x1800 with 5 Axes>"
            ]
          },
          "metadata": {
            "tags": []
          }
        }
      ]
    },
    {
      "cell_type": "markdown",
      "metadata": {
        "id": "JOJlh6BewLiS",
        "colab_type": "text"
      },
      "source": [
        "## License\n",
        "\n",
        "This Deep Learning Tutorial is licensed under a Creative Commons Attribution-NonCommercial-NoDerivatives 4.0 (CC BY-NC-ND 4.0) International License."
      ]
    }
  ]
}