{
  "nbformat": 4,
  "nbformat_minor": 0,
  "metadata": {
    "colab": {
      "name": "deepLearning_feedforward.ipynb",
      "version": "0.3.2",
      "provenance": [],
      "collapsed_sections": [],
      "toc_visible": true,
      "include_colab_link": true
    },
    "kernelspec": {
      "name": "python3",
      "display_name": "Python 3"
    },
    "accelerator": "GPU"
  },
  "cells": [
    {
      "cell_type": "markdown",
      "metadata": {
        "id": "view-in-github",
        "colab_type": "text"
      },
      "source": [
        "<a href=\"https://colab.research.google.com/github/hfarruda/deeplearningtutorial/blob/master/deepLearning_feedforward.ipynb\" target=\"_parent\"><img src=\"https://colab.research.google.com/assets/colab-badge.svg\" alt=\"Open In Colab\"/></a>"
      ]
    },
    {
      "cell_type": "markdown",
      "metadata": {
        "id": "4g1rWT5pOVaJ",
        "colab_type": "text"
      },
      "source": [
        "#Feedforward networks\n",
        "\n",
        "This example is part of the [*Deep Learning Tutorial*](https://github.com/hfarruda/deeplearningtutorial), authored by Henrique F. de Arruda, Alexandre Benatti, César Comin, and Luciano da Fontoura Costa.\n",
        "\n",
        "\n",
        "## Binary Classification\n",
        "This is the first example of deep learning implementation, in which we address binary classification of wine data. In this example, we consider one feedforward network with 5 hidden layers and with 30 neurons in each layer.  The provided networks were built only for a didactic purpose and are not appropriate for real applications.\n",
        "\n",
        "First of all, we import the necessary libraries. Here we opt for using Keras (using TensorFlow backend)."
      ]
    },
    {
      "cell_type": "code",
      "metadata": {
        "id": "5issO4MPE9RC",
        "colab_type": "code",
        "colab": {}
      },
      "source": [
        "import numpy as np\n",
        "import keras\n",
        "from keras.models import Sequential\n",
        "from keras.layers import Dense, Dropout\n",
        "from keras.utils.vis_utils import plot_model\n",
        "from keras.models import model_from_json\n",
        "from sklearn.datasets import load_wine\n",
        "from sklearn.model_selection import train_test_split\n",
        "from sklearn.metrics import accuracy_score"
      ],
      "execution_count": 0,
      "outputs": []
    },
    {
      "cell_type": "markdown",
      "metadata": {
        "id": "AdzGcATp6esl",
        "colab_type": "text"
      },
      "source": [
        "If you have a GPU, you can use the following code to allocate processing into it.  Otherwise, proceed to (*)."
      ]
    },
    {
      "cell_type": "code",
      "metadata": {
        "id": "imFytVp56vkf",
        "colab_type": "code",
        "colab": {}
      },
      "source": [
        "import tensorflow as tf \n",
        "from keras import backend as K\n",
        "\n",
        "print(K.tensorflow_backend._get_available_gpus())\n",
        "\n",
        "number_of_cpu_cores = 8\n",
        "config = tf.ConfigProto(device_count = {'GPU': 1 , 'CPU': number_of_cpu_cores}) \n",
        "session = tf.Session(config=config) \n",
        "keras.backend.set_session(session)"
      ],
      "execution_count": 0,
      "outputs": []
    },
    {
      "cell_type": "markdown",
      "metadata": {
        "id": "eSWkrd2TouMs",
        "colab_type": "text"
      },
      "source": [
        "\n",
        "Here, we use the Wine dataset. It is available at Sklearn library on [sklearn-datasets-wine](https://scikit-learn.org/stable/modules/generated/sklearn.datasets.load_wine.html). For more information [wine-UCI](https://archive.ics.uci.edu/ml/datasets/Wine).\n",
        "Because this dataset comprises three classes and here we exemplify a binary classification, we considered only the two first classes.\n",
        "\n"
      ]
    },
    {
      "cell_type": "code",
      "metadata": {
        "id": "e4eChkGFkAi6",
        "colab_type": "code",
        "colab": {}
      },
      "source": [
        "wine = load_wine()\n",
        "data = wine['data']\n",
        "target = wine['target']\n",
        "target_names = wine['target_names'] \n",
        "\n",
        "hold = np.argwhere(target!=2).T[0]\n",
        "data = data[hold]\n",
        "target = target[hold]\n",
        "target_names = target_names[0:1]\n",
        "\n",
        "#Here, we divide our dataset into training and test sets.\n",
        "test_size = 0.25 #fraction \n",
        "training_data,test_data,training_target,test_target = train_test_split(data, \n",
        "                                                    target, test_size=test_size)\n",
        "\n"
      ],
      "execution_count": 0,
      "outputs": []
    },
    {
      "cell_type": "markdown",
      "metadata": {
        "id": "Pl3ldThqPd8j",
        "colab_type": "text"
      },
      "source": [
        "In the following, we configure the neuronal network. It is not necessary to include bias because this parameter is set as true as default. \n",
        "\n",
        "\n"
      ]
    },
    {
      "cell_type": "code",
      "metadata": {
        "id": "8xmMv-FgUPP3",
        "colab_type": "code",
        "outputId": "3062c426-99b4-4217-e783-376cf5bfd446",
        "colab": {
          "base_uri": "https://localhost:8080/",
          "height": 207
        }
      },
      "source": [
        "#Set of parameters\n",
        "input_dim = data.shape[1]\n",
        "kernel_initializer = 'random_uniform'\n",
        "bias_initializer='zeros'\n",
        "activation_function_hidden = 'relu'\n",
        "activation_function_output = 'sigmoid'\n",
        "optimizer = 'adam'\n",
        "loss = 'binary_crossentropy'\n",
        "metrics = ['binary_accuracy']\n",
        "number_of_layers = 5\n",
        "number_of_units_hidden = 30\n",
        "number_of_units_output = 1\n",
        "dropout_percentage = 0.25\n",
        "\n",
        "\n",
        "#Creating model\n",
        "ff_model = Sequential()\n",
        "ff_model.add(Dense(units = number_of_units_hidden, \n",
        "                   activation = activation_function_hidden, \n",
        "                   kernel_initializer = kernel_initializer, \n",
        "                   input_dim = input_dim))\n",
        "\n",
        "for i in range(number_of_layers-1):\n",
        "  #Inserting a dense hidden layer\n",
        "  ff_model.add(Dense(units = number_of_units_hidden, \n",
        "                     activation = activation_function_hidden, \n",
        "                     kernel_initializer = kernel_initializer, \n",
        "                     input_dim = number_of_units_hidden))\n",
        "  #Inserting dropout\n",
        "  ff_model.add(Dropout(dropout_percentage))\n",
        "\n",
        "ff_model.add(Dense(units = number_of_units_output, \n",
        "                   activation = activation_function_output))\n",
        "ff_model.compile(optimizer = optimizer, loss = loss, metrics = metrics)"
      ],
      "execution_count": 0,
      "outputs": [
        {
          "output_type": "stream",
          "text": [
            "W0830 18:53:06.774023 140522075584384 deprecation_wrapper.py:119] From /usr/local/lib/python3.6/dist-packages/keras/backend/tensorflow_backend.py:66: The name tf.get_default_graph is deprecated. Please use tf.compat.v1.get_default_graph instead.\n",
            "\n",
            "W0830 18:53:06.824741 140522075584384 deprecation.py:506] From /usr/local/lib/python3.6/dist-packages/keras/backend/tensorflow_backend.py:3733: calling dropout (from tensorflow.python.ops.nn_ops) with keep_prob is deprecated and will be removed in a future version.\n",
            "Instructions for updating:\n",
            "Please use `rate` instead of `keep_prob`. Rate should be set to `rate = 1 - keep_prob`.\n",
            "W0830 18:53:06.954720 140522075584384 deprecation_wrapper.py:119] From /usr/local/lib/python3.6/dist-packages/keras/optimizers.py:793: The name tf.train.Optimizer is deprecated. Please use tf.compat.v1.train.Optimizer instead.\n",
            "\n",
            "W0830 18:53:06.986447 140522075584384 deprecation.py:323] From /usr/local/lib/python3.6/dist-packages/tensorflow/python/ops/nn_impl.py:180: add_dispatch_support.<locals>.wrapper (from tensorflow.python.ops.array_ops) is deprecated and will be removed in a future version.\n",
            "Instructions for updating:\n",
            "Use tf.where in 2.0, which has the same broadcast rule as np.where\n"
          ],
          "name": "stderr"
        }
      ]
    },
    {
      "cell_type": "markdown",
      "metadata": {
        "id": "5eRx1RLFUQKZ",
        "colab_type": "text"
      },
      "source": [
        "In order to check the network topology, you can use the subsequent command."
      ]
    },
    {
      "cell_type": "code",
      "metadata": {
        "id": "RqO568vpUQeJ",
        "colab_type": "code",
        "colab": {}
      },
      "source": [
        "ff_model.summary() "
      ],
      "execution_count": 0,
      "outputs": []
    },
    {
      "cell_type": "markdown",
      "metadata": {
        "id": "eQ-AjuqnTC9f",
        "colab_type": "text"
      },
      "source": [
        "\n",
        "Another option is to visualize the topology as a figure. "
      ]
    },
    {
      "cell_type": "code",
      "metadata": {
        "id": "vKlmg0xaTDJP",
        "colab_type": "code",
        "colab": {}
      },
      "source": [
        "#Saving the resultant figure as 'ff_model.png'.\n",
        "plot_model(ff_model, to_file='ff_model.png', show_shapes=True, \n",
        "           show_layer_names=True)"
      ],
      "execution_count": 0,
      "outputs": []
    },
    {
      "cell_type": "markdown",
      "metadata": {
        "id": "5GLzKLnTwbbJ",
        "colab_type": "text"
      },
      "source": [
        "The training step is executed as follows."
      ]
    },
    {
      "cell_type": "code",
      "metadata": {
        "id": "qk8Sfc8qXuY_",
        "colab_type": "code",
        "colab": {}
      },
      "source": [
        "batch_size = 10\n",
        "epochs = 200\n",
        "ff_model.fit(training_data,training_target, batch_size = batch_size, \n",
        "             epochs = epochs)"
      ],
      "execution_count": 0,
      "outputs": []
    },
    {
      "cell_type": "markdown",
      "metadata": {
        "id": "ZiTx4QHzaH9J",
        "colab_type": "text"
      },
      "source": [
        "In order to create an application, it is possible to save the network and the respective trained weights, as follows.\n",
        "\n"
      ]
    },
    {
      "cell_type": "code",
      "metadata": {
        "id": "Z7pDPxLDaIa1",
        "colab_type": "code",
        "colab": {}
      },
      "source": [
        "#Saving the network model\n",
        "ff_model_json = ff_model.to_json()\n",
        "with open('ff_model.json', 'w') as file:\n",
        "    file.write(ff_model_json)\n",
        "\n",
        "#Saving weights\n",
        "ff_model.save_weights('ff_model.h5')"
      ],
      "execution_count": 0,
      "outputs": []
    },
    {
      "cell_type": "markdown",
      "metadata": {
        "id": "sGlI6b_rhRnD",
        "colab_type": "text"
      },
      "source": [
        "The following code can be employed to open a pre-trained model."
      ]
    },
    {
      "cell_type": "code",
      "metadata": {
        "id": "b0huYj4zhdZd",
        "colab_type": "code",
        "colab": {}
      },
      "source": [
        "with open('ff_model.json', 'r') as file:\n",
        "    ff_model_json = file.read()\n",
        "\n",
        "ff_model = model_from_json(ff_model_json)\n",
        "ff_model.load_weights('ff_model.h5')\n"
      ],
      "execution_count": 0,
      "outputs": []
    },
    {
      "cell_type": "markdown",
      "metadata": {
        "id": "6WzeYCe2aKGA",
        "colab_type": "text"
      },
      "source": [
        "There are different analysis that can account for the quality of the results. Here, to be didactic, we show only the measurement of accuracy. "
      ]
    },
    {
      "cell_type": "code",
      "metadata": {
        "id": "ZwBT4N4DaKZl",
        "colab_type": "code",
        "outputId": "f42da289-1aa4-4971-a6dc-21ce2eaba341",
        "colab": {
          "base_uri": "https://localhost:8080/",
          "height": 34
        }
      },
      "source": [
        "predictions = ff_model.predict(test_data)\n",
        "#Because it is a binary classification, we consider the values higher than 0.5 \n",
        "#as being part of class 1 otherwise 0.\n",
        "predictions = (predictions > 0.5)\n",
        "accuracy = accuracy_score(test_target, predictions)\n",
        "print(\"Accuracy =\", accuracy)"
      ],
      "execution_count": 0,
      "outputs": [
        {
          "output_type": "stream",
          "text": [
            "Accuracy = 0.9393939393939394\n"
          ],
          "name": "stdout"
        }
      ]
    },
    {
      "cell_type": "markdown",
      "metadata": {
        "id": "aW5PtvkFUZPX",
        "colab_type": "text"
      },
      "source": [
        "In this tutorial we only present a simple example of the neuronal network use. However, for a real application, it is necessary to consider a more elaborate analysis of the results, e.g., using a k-fold technique. "
      ]
    },
    {
      "cell_type": "markdown",
      "metadata": {
        "id": "vTAKb59CJD9z",
        "colab_type": "text"
      },
      "source": [
        "##Multiclass Classification\n",
        "In this example, we illustrate a multiclass classification through a wine dataset, in which there are three classes, which were defined according to their regions. We employed the same dataset presented above, but here we considered the three classes. To do so, we use the *softmax* activation function.\n",
        "\n",
        "First of all, we import the necessary libraries. Here we opt for using Keras (using TensorFlow backend)."
      ]
    },
    {
      "cell_type": "code",
      "metadata": {
        "id": "Bx58z3nAL14P",
        "colab_type": "code",
        "colab": {}
      },
      "source": [
        "import numpy as np\n",
        "import keras\n",
        "from keras.utils import np_utils\n",
        "from keras.models import Sequential\n",
        "from keras.layers import Dense, Dropout\n",
        "from sklearn.datasets import load_wine\n",
        "from sklearn.model_selection import train_test_split\n",
        "from sklearn.metrics import accuracy_score\n",
        "from sklearn.preprocessing import LabelEncoder\n",
        "from sklearn.metrics import confusion_matrix"
      ],
      "execution_count": 0,
      "outputs": []
    },
    {
      "cell_type": "markdown",
      "metadata": {
        "colab_type": "text",
        "id": "nmvkUf-Xehot"
      },
      "source": [
        "If you have a GPU, you can use the following code to allocate processing into it.  Otherwise, proceed to (*)."
      ]
    },
    {
      "cell_type": "code",
      "metadata": {
        "colab_type": "code",
        "id": "-aBf9sIuehov",
        "outputId": "b2c7c7b9-473c-4279-ae8b-f9a05b893d20",
        "colab": {
          "base_uri": "https://localhost:8080/",
          "height": 34
        }
      },
      "source": [
        "import tensorflow as tf \n",
        "from keras import backend as K\n",
        "\n",
        "print(K.tensorflow_backend._get_available_gpus())\n",
        "\n",
        "number_of_cpu_cores = 8\n",
        "config = tf.ConfigProto(device_count = {'GPU': 1 , 'CPU': number_of_cpu_cores}) \n",
        "session = tf.Session(config=config) \n",
        "keras.backend.set_session(session)"
      ],
      "execution_count": 0,
      "outputs": [
        {
          "output_type": "stream",
          "text": [
            "['/job:localhost/replica:0/task:0/device:GPU:0']\n"
          ],
          "name": "stdout"
        }
      ]
    },
    {
      "cell_type": "markdown",
      "metadata": {
        "id": "JRnUlc_hezGo",
        "colab_type": "text"
      },
      "source": [
        "(*) In this examle the dataset used is Wine. It is available at Sklearn library on [sklearn-datasets-wine](https://scikit-learn.org/stable/modules/generated/sklearn.datasets.load_wine.html). For more information [wine-UCI](https://archive.ics.uci.edu/ml/datasets/Wine).\n",
        "\n",
        "These data show the results of a chemical analysis of wines grown in Italy, derived from three different cultivars in the same region, and can be loaded as follows."
      ]
    },
    {
      "cell_type": "code",
      "metadata": {
        "id": "tDZmhzJDe5Jh",
        "colab_type": "code",
        "colab": {}
      },
      "source": [
        "wine = load_wine()\n",
        "data = wine['data']\n",
        "target = wine['target']\n",
        "target_names = wine['target_names'] \n",
        "\n",
        "label_encoder = LabelEncoder()\n",
        "target = label_encoder.fit_transform(target)\n",
        "target_one_hot_encoding = np_utils.to_categorical(target)\n",
        "\n",
        "#Here, we divide our dataset into training and test sets.\n",
        "test_size = 0.25 #fraction \n",
        "training_data,test_data,training_target,test_target = train_test_split(data, \n",
        "                                  target_one_hot_encoding, test_size=test_size)\n"
      ],
      "execution_count": 0,
      "outputs": []
    },
    {
      "cell_type": "code",
      "metadata": {
        "id": "6Ax0yL1mgNei",
        "colab_type": "code",
        "outputId": "da14ff88-80c6-4d47-dbd0-b0299ebc92ec",
        "colab": {
          "base_uri": "https://localhost:8080/",
          "height": 34
        }
      },
      "source": [
        "np.sum(target==0), np.sum(target==1), np.sum(target==2)"
      ],
      "execution_count": 0,
      "outputs": [
        {
          "output_type": "execute_result",
          "data": {
            "text/plain": [
              "(59, 71, 48)"
            ]
          },
          "metadata": {
            "tags": []
          },
          "execution_count": 16
        }
      ]
    },
    {
      "cell_type": "markdown",
      "metadata": {
        "id": "TwZWLfM1fcb1",
        "colab_type": "text"
      },
      "source": [
        "In the following, we configure the neuronal network. It is not necessary to include bias because this parameter is set as true as default. \n",
        "\n"
      ]
    },
    {
      "cell_type": "code",
      "metadata": {
        "id": "Y0xiWDd0fdW_",
        "colab_type": "code",
        "outputId": "a0bacb94-f3ec-485a-d560-02b1a9927f33",
        "colab": {
          "base_uri": "https://localhost:8080/",
          "height": 493
        }
      },
      "source": [
        "#Set of parameters\n",
        "input_dim = data.shape[1]\n",
        "kernel_initializer = 'random_uniform'\n",
        "bias_initializer='zeros'\n",
        "activation_function_hidden = 'relu'\n",
        "activation_function_output = 'softmax'\n",
        "optimizer = 'adam'\n",
        "loss = 'categorical_crossentropy'\n",
        "metrics = ['categorical_accuracy']\n",
        "number_of_layers = 5\n",
        "number_of_units_hidden = 30\n",
        "number_of_units_output = len(set(target_names))\n",
        "dropout_percentage = 0.25\n",
        "\n",
        "\n",
        "#Creating model\n",
        "ff_model = Sequential()\n",
        "ff_model.add(Dense(units = number_of_units_hidden, \n",
        "                   activation = activation_function_hidden, \n",
        "                   kernel_initializer = kernel_initializer, \n",
        "                   input_dim = input_dim))\n",
        "\n",
        "for i in range(number_of_layers-1):\n",
        "  #Inserting a dense hidden layer\n",
        "  ff_model.add(Dense(units = number_of_units_hidden, \n",
        "                     activation = activation_function_hidden, \n",
        "                     kernel_initializer = kernel_initializer, \n",
        "                     input_dim = number_of_units_hidden))\n",
        "  #Inserting dropout\n",
        "  ff_model.add(Dropout(dropout_percentage))\n",
        "\n",
        "ff_model.add(Dense(units = number_of_units_output, \n",
        "                   activation = activation_function_output))\n",
        "ff_model.compile(optimizer = optimizer, loss = loss, metrics = metrics)\n",
        "ff_model.summary() "
      ],
      "execution_count": 0,
      "outputs": [
        {
          "output_type": "stream",
          "text": [
            "Model: \"sequential_2\"\n",
            "_________________________________________________________________\n",
            "Layer (type)                 Output Shape              Param #   \n",
            "=================================================================\n",
            "dense_7 (Dense)              (None, 30)                420       \n",
            "_________________________________________________________________\n",
            "dense_8 (Dense)              (None, 30)                930       \n",
            "_________________________________________________________________\n",
            "dropout_5 (Dropout)          (None, 30)                0         \n",
            "_________________________________________________________________\n",
            "dense_9 (Dense)              (None, 30)                930       \n",
            "_________________________________________________________________\n",
            "dropout_6 (Dropout)          (None, 30)                0         \n",
            "_________________________________________________________________\n",
            "dense_10 (Dense)             (None, 30)                930       \n",
            "_________________________________________________________________\n",
            "dropout_7 (Dropout)          (None, 30)                0         \n",
            "_________________________________________________________________\n",
            "dense_11 (Dense)             (None, 30)                930       \n",
            "_________________________________________________________________\n",
            "dropout_8 (Dropout)          (None, 30)                0         \n",
            "_________________________________________________________________\n",
            "dense_12 (Dense)             (None, 3)                 93        \n",
            "=================================================================\n",
            "Total params: 4,233\n",
            "Trainable params: 4,233\n",
            "Non-trainable params: 0\n",
            "_________________________________________________________________\n"
          ],
          "name": "stdout"
        }
      ]
    },
    {
      "cell_type": "markdown",
      "metadata": {
        "id": "sAUKP8fVgEHU",
        "colab_type": "text"
      },
      "source": [
        "The training step is executed as follows."
      ]
    },
    {
      "cell_type": "code",
      "metadata": {
        "id": "3698Dj5ygDw2",
        "colab_type": "code",
        "colab": {}
      },
      "source": [
        "batch_size = 10\n",
        "epochs = 250\n",
        "ff_model.fit(training_data,training_target, batch_size = batch_size,\n",
        "             epochs = epochs)"
      ],
      "execution_count": 0,
      "outputs": []
    },
    {
      "cell_type": "markdown",
      "metadata": {
        "id": "gpjwbAdmlsqL",
        "colab_type": "text"
      },
      "source": [
        "Because there are three classes, we show the classification results through a confusion matrix."
      ]
    },
    {
      "cell_type": "code",
      "metadata": {
        "id": "_pswFceOVPda",
        "colab_type": "code",
        "colab": {}
      },
      "source": [
        "predictions = ff_model.predict(test_data)\n",
        "\n",
        "found_target = predictions.argmax(axis=1)\n",
        "categorical_test_target = test_target.argmax(axis=1)\n",
        "\n",
        "accuracy = accuracy_score(categorical_test_target, found_target)\n",
        "print(\"Accuracy =\", accuracy)\n",
        "\n",
        "print(\"Confusion matrix:\")\n",
        "matrix = confusion_matrix(found_target,categorical_test_target)\n",
        "print(matrix)"
      ],
      "execution_count": 0,
      "outputs": []
    }
  ]
}