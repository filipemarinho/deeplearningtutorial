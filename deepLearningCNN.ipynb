{
  "nbformat": 4,
  "nbformat_minor": 0,
  "metadata": {
    "colab": {
      "name": "deepLearningCNN.ipynb",
      "version": "0.3.2",
      "provenance": [],
      "collapsed_sections": [],
      "toc_visible": true,
      "include_colab_link": true
    },
    "kernelspec": {
      "name": "python3",
      "display_name": "Python 3"
    },
    "accelerator": "GPU"
  },
  "cells": [
    {
      "cell_type": "markdown",
      "metadata": {
        "id": "view-in-github",
        "colab_type": "text"
      },
      "source": [
        "<a href=\"https://colab.research.google.com/github/hfarruda/deeplearningtutorial/blob/master/deepLearningCNN.ipynb\" target=\"_parent\"><img src=\"https://colab.research.google.com/assets/colab-badge.svg\" alt=\"Open In Colab\"/></a>"
      ]
    },
    {
      "cell_type": "markdown",
      "metadata": {
        "id": "1lL5hGtcKG9H",
        "colab_type": "text"
      },
      "source": [
        "#  Convolutional Neural Network (CNN)\n",
        "\n",
        "This tutorial is the second example of deep learning implementation, in which we exemplify a classification task. More specifically, we considered ten classes of colored pictures. \n",
        "\n",
        "First of all, we import the necessary libraries. Here we opt for using Keras (using TensorFlow backend)."
      ]
    },
    {
      "cell_type": "code",
      "metadata": {
        "id": "r0d7hiVRKQlS",
        "colab_type": "code",
        "outputId": "71f21cb7-c0be-4c2f-fc1a-e3f0f7979a6b",
        "colab": {
          "base_uri": "https://localhost:8080/",
          "height": 34
        }
      },
      "source": [
        "import keras\n",
        "from keras.utils import np_utils\n",
        "from keras.models import Sequential\n",
        "from keras.layers import Conv2D, MaxPooling2D, Flatten, Dense, Dropout\n",
        "from keras.layers.normalization import BatchNormalization\n",
        "from keras.preprocessing.image import ImageDataGenerator\n",
        "from keras.preprocessing import image\n",
        "from keras.datasets import cifar10\n",
        "from keras.utils.vis_utils import plot_model\n",
        "from sklearn.metrics import accuracy_score\n",
        "import numpy as np\n",
        "import matplotlib.pyplot as plt\n",
        "from sklearn.metrics import classification_report, confusion_matrix"
      ],
      "execution_count": 0,
      "outputs": [
        {
          "output_type": "stream",
          "text": [
            "Using TensorFlow backend.\n"
          ],
          "name": "stderr"
        }
      ]
    },
    {
      "cell_type": "markdown",
      "metadata": {
        "id": "ysjNmdk_LAZ7",
        "colab_type": "text"
      },
      "source": [
        "If you have a GPU, you can use the following code to allocate processing into it.  Otherwise, proceed to (*)."
      ]
    },
    {
      "cell_type": "code",
      "metadata": {
        "id": "BRjNBwBaLFIR",
        "colab_type": "code",
        "outputId": "aca2585b-e4a9-4caa-ad81-648058596448",
        "colab": {
          "base_uri": "https://localhost:8080/",
          "height": 207
        }
      },
      "source": [
        "import tensorflow as tf \n",
        "from keras import backend as K\n",
        "\n",
        "print(K.tensorflow_backend._get_available_gpus())\n",
        "\n",
        "number_of_cpu_cores = 8\n",
        "config = tf.ConfigProto(device_count = {'GPU': 1 , 'CPU': number_of_cpu_cores}) \n",
        "session = tf.Session(config=config) \n",
        "keras.backend.set_session(session)"
      ],
      "execution_count": 0,
      "outputs": [
        {
          "output_type": "stream",
          "text": [
            "WARNING: Logging before flag parsing goes to stderr.\n",
            "W0828 00:56:06.176350 139670588204928 deprecation_wrapper.py:119] From /usr/local/lib/python3.6/dist-packages/keras/backend/tensorflow_backend.py:174: The name tf.get_default_session is deprecated. Please use tf.compat.v1.get_default_session instead.\n",
            "\n",
            "W0828 00:56:06.179314 139670588204928 deprecation_wrapper.py:119] From /usr/local/lib/python3.6/dist-packages/keras/backend/tensorflow_backend.py:181: The name tf.ConfigProto is deprecated. Please use tf.compat.v1.ConfigProto instead.\n",
            "\n",
            "W0828 00:56:06.180896 139670588204928 deprecation_wrapper.py:119] From /usr/local/lib/python3.6/dist-packages/keras/backend/tensorflow_backend.py:186: The name tf.Session is deprecated. Please use tf.compat.v1.Session instead.\n",
            "\n",
            "W0828 00:56:07.429881 139670588204928 deprecation_wrapper.py:119] From /usr/local/lib/python3.6/dist-packages/keras/backend/tensorflow_backend.py:190: The name tf.global_variables is deprecated. Please use tf.compat.v1.global_variables instead.\n",
            "\n"
          ],
          "name": "stderr"
        },
        {
          "output_type": "stream",
          "text": [
            "['/job:localhost/replica:0/task:0/device:GPU:0']\n"
          ],
          "name": "stdout"
        }
      ]
    },
    {
      "cell_type": "markdown",
      "metadata": {
        "id": "hKxiJ1YgLJSa",
        "colab_type": "text"
      },
      "source": [
        "(*) In this example, we used the CIFAR10, which is consists of a colored dataset of images. It is available in Keras library, available on [keras-datasets](https://keras.io/datasets/).\n",
        "This dataset is organized into two parts, where the first is called x_train/x_test and is comprises RGB images with dimensions of 32x32x3 . The second represents the targets, and the variables are called y_train/y_test, which are represented by arrays of category tags from 0 to 9.\n",
        "\n",
        "The following command is used to load the data set."
      ]
    },
    {
      "cell_type": "code",
      "metadata": {
        "id": "07m5qR6vLKOh",
        "colab_type": "code",
        "outputId": "5b6a8c8f-2305-407b-bd40-a0dd4ba3a280",
        "colab": {
          "base_uri": "https://localhost:8080/",
          "height": 51
        }
      },
      "source": [
        "(train_data, train_target), (test_data, test_target) = cifar10.load_data()\n",
        "\n",
        "train_target_one_hot_encoding = np_utils.to_categorical(train_target)"
      ],
      "execution_count": 0,
      "outputs": [
        {
          "output_type": "stream",
          "text": [
            "Downloading data from https://www.cs.toronto.edu/~kriz/cifar-10-python.tar.gz\n",
            "170500096/170498071 [==============================] - 14s 0us/step\n"
          ],
          "name": "stdout"
        }
      ]
    },
    {
      "cell_type": "markdown",
      "metadata": {
        "id": "4vpJ22EJtR0_",
        "colab_type": "text"
      },
      "source": [
        "In order to visualize a given figure, the following code can be executed."
      ]
    },
    {
      "cell_type": "code",
      "metadata": {
        "id": "u34YZpzWh8rP",
        "colab_type": "code",
        "outputId": "4c14655d-24d6-4d4c-86f1-c89c776ed434",
        "colab": {
          "base_uri": "https://localhost:8080/",
          "height": 281
        }
      },
      "source": [
        "image_id = 700\n",
        "plt.imshow(test_data[image_id])\n",
        "plt.title(\"Test image: \" + str(image_id))\n",
        "plt.show()"
      ],
      "execution_count": 0,
      "outputs": [
        {
          "output_type": "display_data",
          "data": {
            "image/png": "[encoded data removed]",
            "text/plain": [
              "<Figure size 432x288 with 1 Axes>"
            ]
          },
          "metadata": {
            "tags": []
          }
        }
      ]
    },
    {
      "cell_type": "markdown",
      "metadata": {
        "id": "3CGuskl-uF__",
        "colab_type": "text"
      },
      "source": [
        "In the following, we define the network topology. Note that in this case we do not employ dropout."
      ]
    },
    {
      "cell_type": "code",
      "metadata": {
        "id": "P-l1gBBYv0ul",
        "colab_type": "code",
        "outputId": "8951e559-b0cc-4965-a015-ea374f12acc5",
        "colab": {
          "base_uri": "https://localhost:8080/",
          "height": 244
        }
      },
      "source": [
        "input_shape = train_data.shape[1::]\n",
        "filters = 128\n",
        "kernel_size = (3,3)\n",
        "pool_size = (2,2)\n",
        "\n",
        "optimizer = 'adam'\n",
        "loss = 'categorical_crossentropy'\n",
        "metrics = ['categorical_accuracy']\n",
        "activation = 'relu'\n",
        "activation_function_output = 'softmax'\n",
        "number_of_cnn_layers = 3\n",
        "number_of_ff_layers = 3\n",
        "number_of_units_output = train_target_one_hot_encoding.shape[1]\n",
        "\n",
        "cnn_model = Sequential()\n",
        "cnn_model.add(Conv2D(filters, kernel_size, input_shape = input_shape, \n",
        "                     activation = activation))\n",
        "\n",
        "cnn_model.add(BatchNormalization())\n",
        "cnn_model.add(MaxPooling2D(pool_size = pool_size))\n",
        "\n",
        "for i in range(number_of_cnn_layers-1):\n",
        "  cnn_model.add(Conv2D(filters, kernel_size, input_shape = input_shape[0:2], \n",
        "                       activation = activation))\n",
        "  cnn_model.add(BatchNormalization())\n",
        "  cnn_model.add(MaxPooling2D(pool_size = pool_size))\n",
        "\n",
        "cnn_model.add(Flatten())\n",
        "\n",
        "#Feedforward network\n",
        "for i in range(number_of_ff_layers):\n",
        "  cnn_model.add(Dense(units = 128, activation = activation))\n",
        "  cnn_model.add(Dropout(0.3))\n",
        "\n",
        "cnn_model.add(Dense(units = number_of_units_output, \n",
        "                    activation = activation_function_output))\n",
        "\n",
        "cnn_model.compile(optimizer = optimizer, loss = loss, metrics = metrics)"
      ],
      "execution_count": 0,
      "outputs": [
        {
          "output_type": "stream",
          "text": [
            "W0828 00:56:24.954105 139670588204928 deprecation_wrapper.py:119] From /usr/local/lib/python3.6/dist-packages/keras/backend/tensorflow_backend.py:74: The name tf.get_default_graph is deprecated. Please use tf.compat.v1.get_default_graph instead.\n",
            "\n",
            "W0828 00:56:25.010998 139670588204928 deprecation_wrapper.py:119] From /usr/local/lib/python3.6/dist-packages/keras/backend/tensorflow_backend.py:1834: The name tf.nn.fused_batch_norm is deprecated. Please use tf.compat.v1.nn.fused_batch_norm instead.\n",
            "\n",
            "W0828 00:56:25.076863 139670588204928 deprecation_wrapper.py:119] From /usr/local/lib/python3.6/dist-packages/keras/backend/tensorflow_backend.py:3976: The name tf.nn.max_pool is deprecated. Please use tf.nn.max_pool2d instead.\n",
            "\n",
            "W0828 00:56:25.245029 139670588204928 deprecation.py:506] From /usr/local/lib/python3.6/dist-packages/keras/backend/tensorflow_backend.py:3445: calling dropout (from tensorflow.python.ops.nn_ops) with keep_prob is deprecated and will be removed in a future version.\n",
            "Instructions for updating:\n",
            "Please use `rate` instead of `keep_prob`. Rate should be set to `rate = 1 - keep_prob`.\n",
            "W0828 00:56:25.315403 139670588204928 deprecation_wrapper.py:119] From /usr/local/lib/python3.6/dist-packages/keras/optimizers.py:790: The name tf.train.Optimizer is deprecated. Please use tf.compat.v1.train.Optimizer instead.\n",
            "\n"
          ],
          "name": "stderr"
        }
      ]
    },
    {
      "cell_type": "markdown",
      "metadata": {
        "id": "WpMASeDR0p37",
        "colab_type": "text"
      },
      "source": [
        "We can use the following command to see the network topology.\n"
      ]
    },
    {
      "cell_type": "code",
      "metadata": {
        "id": "N7-Y_g9g0pB0",
        "colab_type": "code",
        "colab": {}
      },
      "source": [
        "cnn_model.summary()\n",
        "#Saving the resultant figure as 'cnn_model.png'.\n",
        "plot_model(cnn_model, to_file='cnn_model.png', show_shapes=True, \n",
        "           show_layer_names=True)"
      ],
      "execution_count": 0,
      "outputs": []
    },
    {
      "cell_type": "markdown",
      "metadata": {
        "id": "efWlNTwTMS4B",
        "colab_type": "text"
      },
      "source": [
        "The training step is executed as follows. Because this network demands a high computational power, the variable epochs can receive a smaller number (e.g., 5)."
      ]
    },
    {
      "cell_type": "code",
      "metadata": {
        "id": "r-G8q3WiMSIe",
        "colab_type": "code",
        "outputId": "ecf4f811-dd32-4942-c569-57b67dda4949",
        "colab": {
          "base_uri": "https://localhost:8080/",
          "height": 1000
        }
      },
      "source": [
        "batch_size = 30\n",
        "epochs = 50\n",
        "\n",
        "cnn_model.fit(train_data, train_target_one_hot_encoding, \n",
        "              batch_size = batch_size, epochs = epochs)"
      ],
      "execution_count": 0,
      "outputs": [
        {
          "output_type": "stream",
          "text": [
            "Epoch 1/50\n",
            "50000/50000 [==============================] - 15s 298us/step - loss: 0.8595 - categorical_accuracy: 0.7125\n",
            "Epoch 2/50\n",
            "50000/50000 [==============================] - 15s 294us/step - loss: 0.7888 - categorical_accuracy: 0.7387\n",
            "Epoch 3/50\n",
            "50000/50000 [==============================] - 15s 297us/step - loss: 0.7269 - categorical_accuracy: 0.7592\n",
            "Epoch 4/50\n",
            "50000/50000 [==============================] - 15s 295us/step - loss: 0.6738 - categorical_accuracy: 0.7792\n",
            "Epoch 5/50\n",
            "50000/50000 [==============================] - 15s 296us/step - loss: 0.6247 - categorical_accuracy: 0.7928\n",
            "Epoch 6/50\n",
            "50000/50000 [==============================] - 15s 297us/step - loss: 0.5816 - categorical_accuracy: 0.8085\n",
            "Epoch 7/50\n",
            "50000/50000 [==============================] - 15s 295us/step - loss: 0.5424 - categorical_accuracy: 0.8226\n",
            "Epoch 8/50\n",
            "50000/50000 [==============================] - 15s 296us/step - loss: 0.5121 - categorical_accuracy: 0.8333\n",
            "Epoch 9/50\n",
            "50000/50000 [==============================] - 15s 296us/step - loss: 0.4866 - categorical_accuracy: 0.8404\n",
            "Epoch 10/50\n",
            "50000/50000 [==============================] - 15s 293us/step - loss: 0.4564 - categorical_accuracy: 0.8495\n",
            "Epoch 11/50\n",
            "50000/50000 [==============================] - 15s 295us/step - loss: 0.4319 - categorical_accuracy: 0.8590\n",
            "Epoch 12/50\n",
            "50000/50000 [==============================] - 15s 293us/step - loss: 0.4110 - categorical_accuracy: 0.8642\n",
            "Epoch 13/50\n",
            "50000/50000 [==============================] - 15s 294us/step - loss: 0.3883 - categorical_accuracy: 0.8740\n",
            "Epoch 14/50\n",
            "50000/50000 [==============================] - 15s 294us/step - loss: 0.3757 - categorical_accuracy: 0.8793\n",
            "Epoch 15/50\n",
            "50000/50000 [==============================] - 15s 293us/step - loss: 0.3546 - categorical_accuracy: 0.8854\n",
            "Epoch 16/50\n",
            "50000/50000 [==============================] - 15s 294us/step - loss: 0.3410 - categorical_accuracy: 0.8905\n",
            "Epoch 17/50\n",
            "50000/50000 [==============================] - 15s 295us/step - loss: 0.3249 - categorical_accuracy: 0.8976\n",
            "Epoch 18/50\n",
            "50000/50000 [==============================] - 15s 298us/step - loss: 0.3153 - categorical_accuracy: 0.9020\n",
            "Epoch 19/50\n",
            "50000/50000 [==============================] - 15s 295us/step - loss: 0.2998 - categorical_accuracy: 0.9049\n",
            "Epoch 20/50\n",
            "50000/50000 [==============================] - 15s 292us/step - loss: 0.2869 - categorical_accuracy: 0.9094\n",
            "Epoch 21/50\n",
            "50000/50000 [==============================] - 15s 293us/step - loss: 0.2818 - categorical_accuracy: 0.9094\n",
            "Epoch 22/50\n",
            "50000/50000 [==============================] - 15s 293us/step - loss: 0.2719 - categorical_accuracy: 0.9136\n",
            "Epoch 23/50\n",
            "50000/50000 [==============================] - 15s 292us/step - loss: 0.2616 - categorical_accuracy: 0.9174\n",
            "Epoch 24/50\n",
            "50000/50000 [==============================] - 15s 292us/step - loss: 0.2584 - categorical_accuracy: 0.9185\n",
            "Epoch 25/50\n",
            "50000/50000 [==============================] - 15s 292us/step - loss: 0.2422 - categorical_accuracy: 0.9233\n",
            "Epoch 26/50\n",
            "50000/50000 [==============================] - 15s 291us/step - loss: 0.2322 - categorical_accuracy: 0.9258\n",
            "Epoch 27/50\n",
            "50000/50000 [==============================] - 15s 292us/step - loss: 0.2348 - categorical_accuracy: 0.9268\n",
            "Epoch 28/50\n",
            "50000/50000 [==============================] - 14s 290us/step - loss: 0.2263 - categorical_accuracy: 0.9303\n",
            "Epoch 29/50\n",
            "50000/50000 [==============================] - 14s 290us/step - loss: 0.2195 - categorical_accuracy: 0.9320\n",
            "Epoch 30/50\n",
            "50000/50000 [==============================] - 15s 294us/step - loss: 0.2131 - categorical_accuracy: 0.9344\n",
            "Epoch 31/50\n",
            "50000/50000 [==============================] - 14s 289us/step - loss: 0.2129 - categorical_accuracy: 0.9337\n",
            "Epoch 32/50\n",
            "50000/50000 [==============================] - 14s 290us/step - loss: 0.1998 - categorical_accuracy: 0.9383\n",
            "Epoch 33/50\n",
            "50000/50000 [==============================] - 14s 289us/step - loss: 0.2015 - categorical_accuracy: 0.9391\n",
            "Epoch 34/50\n",
            "50000/50000 [==============================] - 15s 290us/step - loss: 0.1909 - categorical_accuracy: 0.9411\n",
            "Epoch 35/50\n",
            "50000/50000 [==============================] - 15s 291us/step - loss: 0.1896 - categorical_accuracy: 0.9416\n",
            "Epoch 36/50\n",
            "50000/50000 [==============================] - 15s 291us/step - loss: 0.1794 - categorical_accuracy: 0.9453\n",
            "Epoch 37/50\n",
            "50000/50000 [==============================] - 15s 290us/step - loss: 0.1803 - categorical_accuracy: 0.9455\n",
            "Epoch 38/50\n",
            "50000/50000 [==============================] - 15s 293us/step - loss: 0.1784 - categorical_accuracy: 0.9448\n",
            "Epoch 39/50\n",
            "50000/50000 [==============================] - 15s 296us/step - loss: 0.1684 - categorical_accuracy: 0.9505\n",
            "Epoch 40/50\n",
            "50000/50000 [==============================] - 15s 290us/step - loss: 0.1620 - categorical_accuracy: 0.9501\n",
            "Epoch 41/50\n",
            "50000/50000 [==============================] - 15s 292us/step - loss: 0.1647 - categorical_accuracy: 0.9495\n",
            "Epoch 42/50\n",
            "50000/50000 [==============================] - 14s 289us/step - loss: 0.1651 - categorical_accuracy: 0.9505\n",
            "Epoch 43/50\n",
            "50000/50000 [==============================] - 14s 289us/step - loss: 0.1556 - categorical_accuracy: 0.9538\n",
            "Epoch 44/50\n",
            "50000/50000 [==============================] - 14s 288us/step - loss: 0.1585 - categorical_accuracy: 0.9525\n",
            "Epoch 45/50\n",
            "50000/50000 [==============================] - 15s 290us/step - loss: 0.1519 - categorical_accuracy: 0.9554\n",
            "Epoch 46/50\n",
            "50000/50000 [==============================] - 14s 290us/step - loss: 0.1502 - categorical_accuracy: 0.9553\n",
            "Epoch 47/50\n",
            "50000/50000 [==============================] - 15s 292us/step - loss: 0.1449 - categorical_accuracy: 0.9570\n",
            "Epoch 48/50\n",
            "50000/50000 [==============================] - 15s 290us/step - loss: 0.1446 - categorical_accuracy: 0.9579\n",
            "Epoch 49/50\n",
            "50000/50000 [==============================] - 14s 288us/step - loss: 0.1411 - categorical_accuracy: 0.9572\n",
            "Epoch 50/50\n",
            "50000/50000 [==============================] - 15s 290us/step - loss: 0.1419 - categorical_accuracy: 0.9574\n"
          ],
          "name": "stdout"
        },
        {
          "output_type": "execute_result",
          "data": {
            "text/plain": [
              "<keras.callbacks.History at 0x7f06d6b50198>"
            ]
          },
          "metadata": {
            "tags": []
          },
          "execution_count": 9
        }
      ]
    },
    {
      "cell_type": "markdown",
      "metadata": {
        "id": "zII-5moGMTfq",
        "colab_type": "text"
      },
      "source": [
        "Because there are three classes, we show the classification results through a confusion matrix."
      ]
    },
    {
      "cell_type": "code",
      "metadata": {
        "id": "Z-TvNPFhwIgt",
        "colab_type": "code",
        "outputId": "b2e553f5-6bea-43c2-e9b2-f625d7e87c12",
        "colab": {
          "base_uri": "https://localhost:8080/",
          "height": 315
        }
      },
      "source": [
        "predictions = cnn_model.predict(test_data)\n",
        "found_target = predictions.argmax(axis=1)\n",
        "\n",
        "accuracy = accuracy_score(test_target, found_target)\n",
        "print(\"Accuracy =\", accuracy)\n",
        "\n",
        "print(\"Confusion matrix:\")\n",
        "matrix = confusion_matrix(found_target,test_target)\n",
        "\n",
        "plt.title(\"Confusion matrix:\")\n",
        "plt.xticks(np.linspace(0,9,10))\n",
        "plt.yticks(np.linspace(0,9,10))\n",
        "plt.imshow(matrix)\n",
        "plt.show()"
      ],
      "execution_count": 0,
      "outputs": [
        {
          "output_type": "stream",
          "text": [
            "Accuracy = 0.7563\n",
            "Confusion matrix:\n"
          ],
          "name": "stdout"
        },
        {
          "output_type": "display_data",
          "data": {
            "image/png": "[encoded data removed]",
            "text/plain": [
              "<Figure size 432x288 with 1 Axes>"
            ]
          },
          "metadata": {
            "tags": []
          }
        }
      ]
    }
  ]
}