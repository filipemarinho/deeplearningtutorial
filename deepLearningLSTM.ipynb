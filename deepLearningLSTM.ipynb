{
  "nbformat": 4,
  "nbformat_minor": 0,
  "metadata": {
    "colab": {
      "name": "deepLearningLSTM.ipynb",
      "version": "0.3.2",
      "provenance": [],
      "collapsed_sections": [],
      "toc_visible": true,
      "include_colab_link": true
    },
    "kernelspec": {
      "name": "python3",
      "display_name": "Python 3"
    },
    "accelerator": "GPU"
  },
  "cells": [
    {
      "cell_type": "markdown",
      "metadata": {
        "id": "view-in-github",
        "colab_type": "text"
      },
      "source": [
        "<a href=\"https://colab.research.google.com/github/hfarruda/deeplearningtutorial/blob/master/deepLearningLSTM.ipynb\" target=\"_parent\"><img src=\"https://colab.research.google.com/assets/colab-badge.svg\" alt=\"Open In Colab\"/></a>"
      ]
    },
    {
      "cell_type": "markdown",
      "metadata": {
        "id": "dTQnbI5ALRnR",
        "colab_type": "text"
      },
      "source": [
        "#Long Short-Term Memory (LSTM)\n",
        "\n",
        "This is the third example of deep learning implementation. Here we use a LSTM network to predict the Bitcoin prices along time by using the input as a temporal series.\n",
        "\n",
        "\n",
        "First of all, we import the necessary libraries. Here we opt for using Keras (using TensorFlow backend)."
      ]
    },
    {
      "cell_type": "code",
      "metadata": {
        "id": "Z_tGqT1mKu_4",
        "colab_type": "code",
        "colab": {}
      },
      "source": [
        "import numpy as np\n",
        "import keras\n",
        "from keras.models import Sequential\n",
        "from keras.utils.vis_utils import plot_model\n",
        "from keras.layers import Dense, Dropout, LSTM\n",
        "from keras.callbacks import EarlyStopping, ReduceLROnPlateau, ModelCheckpoint\n",
        "from sklearn.model_selection import train_test_split\n",
        "from sklearn.metrics import accuracy_score\n",
        "from sklearn.preprocessing import MinMaxScaler\n",
        "import matplotlib.pyplot as plt\n",
        "import pandas as pd\n",
        "import pandas_datareader"
      ],
      "execution_count": 0,
      "outputs": []
    },
    {
      "cell_type": "markdown",
      "metadata": {
        "id": "DBk2wzXpMb7i",
        "colab_type": "text"
      },
      "source": [
        "If you have a GPU, you can use the following code to allocate processing into it.  Otherwise, proceed to (*)."
      ]
    },
    {
      "cell_type": "code",
      "metadata": {
        "id": "rBk-5FD3Mf5j",
        "colab_type": "code",
        "outputId": "2aedf050-65c6-48d5-943e-a7c4303aadbd",
        "colab": {
          "base_uri": "https://localhost:8080/",
          "height": 34
        }
      },
      "source": [
        "import tensorflow as tf \n",
        "from keras import backend as K\n",
        "\n",
        "print(K.tensorflow_backend._get_available_gpus())\n",
        "\n",
        "number_of_cpu_cores = 8\n",
        "config = tf.ConfigProto(device_count = {'GPU': 1 , 'CPU': number_of_cpu_cores}) \n",
        "session = tf.Session(config=config) \n",
        "keras.backend.set_session(session)"
      ],
      "execution_count": 0,
      "outputs": [
        {
          "output_type": "stream",
          "text": [
            "['/job:localhost/replica:0/task:0/device:GPU:0']\n"
          ],
          "name": "stdout"
        }
      ]
    },
    {
      "cell_type": "markdown",
      "metadata": {
        "id": "SkpEIvMCMhc0",
        "colab_type": "text"
      },
      "source": [
        "(*) Here, we use the Bitcoin daily prices dataset, which is available at\n",
        "[yhaoo-stock-market](https://finance.yahoo.com/). The data contains seven columns, organized as follows: date, opening stock price, high daily price, low daily price, closing stock price, the currency volume treaded on the day, and the adjusted closing price."
      ]
    },
    {
      "cell_type": "code",
      "metadata": {
        "id": "7XsGYIwMb_aI",
        "colab_type": "code",
        "colab": {}
      },
      "source": [
        "training_size = 1200\n",
        "start_date = '2015-01-01'# Bitcoin started on '2010-07-16'\n",
        "\n",
        "dataset =  pandas_datareader.data.get_data_yahoo(\"BTC-USD\", start = start_date)\n",
        "data_oerder = ['Open','High', 'Low', 'Close', 'Volume', 'Adj Close']\n",
        "dataset = dataset[data_oerder]\n",
        "\n",
        "\n",
        "training_dataset = dataset.iloc[0:training_size, 1::].values\n",
        "test_dataset = dataset.iloc[training_size::, 1::].values\n",
        "\n",
        "min_max_scaler = MinMaxScaler(feature_range=(0,1))\n",
        "normalized_training_dataset = min_max_scaler.fit_transform(training_dataset)\n",
        "\n",
        "min_max_scaler_training = MinMaxScaler(feature_range=(0,1))\n",
        "normalized_training_price = min_max_scaler_training.fit_transform(training_dataset[:,0:1])\n"
      ],
      "execution_count": 0,
      "outputs": []
    },
    {
      "cell_type": "markdown",
      "metadata": {
        "id": "xndlWJv8Oi0N",
        "colab_type": "text"
      },
      "source": [
        "In the following we define the network topology."
      ]
    },
    {
      "cell_type": "code",
      "metadata": {
        "id": "imLL0-wBOf8o",
        "colab_type": "code",
        "colab": {}
      },
      "source": [
        "window_size = 50\n",
        "number_of_lstm_layers = 3\n",
        "activation = 'sigmoid' \n",
        "return_sequences = True\n",
        "units_first_layer = 100\n",
        "units = 50\n",
        "\n",
        "data = []\n",
        "training_price = []\n",
        "for i in range(window_size, training_size):\n",
        "    data.append(normalized_training_dataset[i-window_size:i, 0:6])\n",
        "    training_price.append(normalized_training_dataset[i, 0])\n",
        "data, training_price = np.array(data), np.array(training_price)\n",
        "\n",
        "lstm_model = Sequential()\n",
        "lstm_model.add(LSTM(units = units_first_layer, \n",
        "                    return_sequences = return_sequences, \n",
        "                    input_shape = (data.shape[1], 5)))\n",
        "lstm_model.add(Dropout(0.2))\n",
        "\n",
        "for i in range(number_of_lstm_layers-2):\n",
        "    lstm_model.add(LSTM(units = units, return_sequences = return_sequences))\n",
        "    lstm_model.add(Dropout(0.2))\n",
        "\n",
        "lstm_model.add(LSTM(units = units))\n",
        "lstm_model.add(Dropout(0.2))\n",
        "\n",
        "#Output layer\n",
        "lstm_model.add(Dense(units = 1, activation = activation))"
      ],
      "execution_count": 0,
      "outputs": []
    },
    {
      "cell_type": "markdown",
      "metadata": {
        "id": "lgj_GKsJVms-",
        "colab_type": "text"
      },
      "source": [
        "In order to check the network topology, you can use the subsequent command."
      ]
    },
    {
      "cell_type": "code",
      "metadata": {
        "id": "ZDE5FFHQTD2c",
        "colab_type": "code",
        "outputId": "b2e6b385-aff0-4a21-8f53-50f1a92cf848",
        "colab": {
          "base_uri": "https://localhost:8080/",
          "height": 374
        }
      },
      "source": [
        "lstm_model.summary() \n",
        "#Saving the resultant figure as 'ff_model.png'.\n",
        "plot_model(lstm_model, to_file='lstm_model.png', show_shapes=True, \n",
        "           show_layer_names=True)"
      ],
      "execution_count": 0,
      "outputs": [
        {
          "output_type": "stream",
          "text": [
            "_________________________________________________________________\n",
            "Layer (type)                 Output Shape              Param #   \n",
            "=================================================================\n",
            "lstm_4 (LSTM)                (None, 50, 100)           42400     \n",
            "_________________________________________________________________\n",
            "dropout_4 (Dropout)          (None, 50, 100)           0         \n",
            "_________________________________________________________________\n",
            "lstm_5 (LSTM)                (None, 50, 50)            30200     \n",
            "_________________________________________________________________\n",
            "dropout_5 (Dropout)          (None, 50, 50)            0         \n",
            "_________________________________________________________________\n",
            "lstm_6 (LSTM)                (None, 50)                20200     \n",
            "_________________________________________________________________\n",
            "dropout_6 (Dropout)          (None, 50)                0         \n",
            "_________________________________________________________________\n",
            "dense_2 (Dense)              (None, 1)                 51        \n",
            "=================================================================\n",
            "Total params: 92,851\n",
            "Trainable params: 92,851\n",
            "Non-trainable params: 0\n",
            "_________________________________________________________________\n"
          ],
          "name": "stdout"
        }
      ]
    },
    {
      "cell_type": "markdown",
      "metadata": {
        "id": "wYn2dnj2TCm3",
        "colab_type": "text"
      },
      "source": [
        "The training step is executed as follows.\n",
        "\n"
      ]
    },
    {
      "cell_type": "code",
      "metadata": {
        "id": "i-npHi6vVdQB",
        "colab_type": "code",
        "outputId": "abbac14e-91f0-4404-9f4d-11ec276f44ea",
        "colab": {
          "base_uri": "https://localhost:8080/",
          "height": 714
        }
      },
      "source": [
        "#Here we set verbose as true\n",
        "verbose = 1\n",
        "\n",
        "batch_size = 32\n",
        "epochs = 10\n",
        "filepath = 'weights.h5' #name of the file with the network weights\n",
        "monitor = 'loss'\n",
        "optimizer = 'adam'\n",
        "loss = 'mean_squared_error'\n",
        "metrics = ['mean_absolute_error'] \n",
        "\n",
        "lstm_model.compile(optimizer = optimizer, loss = loss, metrics = metrics)\n",
        "\n",
        "early_stopping = EarlyStopping(monitor = monitor, min_delta = 1e-15, \n",
        "                               patience = 10, verbose = verbose)\n",
        "reduce_learning_rate_on_plateau = ReduceLROnPlateau(monitor = monitor, \n",
        "                                                    factor = 0.2, patience = 5, \n",
        "                                                    verbose = verbose)\n",
        "model_checkpoint = ModelCheckpoint(filepath = filepath, monitor = monitor, \n",
        "                      save_best_only = True, verbose = verbose)\n",
        "lstm_model.fit(data, training_price, epochs = epochs, batch_size = batch_size,\n",
        "              callbacks = [early_stopping, reduce_learning_rate_on_plateau, \n",
        "              model_checkpoint])"
      ],
      "execution_count": 0,
      "outputs": [
        {
          "output_type": "stream",
          "text": [
            "Epoch 1/10\n",
            "1150/1150 [==============================] - 12s 10ms/step - loss: 0.0635 - mean_absolute_error: 0.1793\n",
            "\n",
            "Epoch 00001: loss improved from inf to 0.06350, saving model to weights.h5\n",
            "Epoch 2/10\n",
            "1150/1150 [==============================] - 10s 9ms/step - loss: 0.0044 - mean_absolute_error: 0.0415\n",
            "\n",
            "Epoch 00002: loss improved from 0.06350 to 0.00439, saving model to weights.h5\n",
            "Epoch 3/10\n",
            "1150/1150 [==============================] - 10s 8ms/step - loss: 0.0032 - mean_absolute_error: 0.0309\n",
            "\n",
            "Epoch 00003: loss improved from 0.00439 to 0.00318, saving model to weights.h5\n",
            "Epoch 4/10\n",
            "1150/1150 [==============================] - 10s 8ms/step - loss: 0.0027 - mean_absolute_error: 0.0289\n",
            "\n",
            "Epoch 00004: loss improved from 0.00318 to 0.00270, saving model to weights.h5\n",
            "Epoch 5/10\n",
            "1150/1150 [==============================] - 10s 8ms/step - loss: 0.0020 - mean_absolute_error: 0.0247\n",
            "\n",
            "Epoch 00005: loss improved from 0.00270 to 0.00195, saving model to weights.h5\n",
            "Epoch 6/10\n",
            "1150/1150 [==============================] - 10s 8ms/step - loss: 0.0018 - mean_absolute_error: 0.0233\n",
            "\n",
            "Epoch 00006: loss improved from 0.00195 to 0.00178, saving model to weights.h5\n",
            "Epoch 7/10\n",
            "1150/1150 [==============================] - 10s 9ms/step - loss: 0.0016 - mean_absolute_error: 0.0230\n",
            "\n",
            "Epoch 00007: loss improved from 0.00178 to 0.00165, saving model to weights.h5\n",
            "Epoch 8/10\n",
            "1150/1150 [==============================] - 10s 8ms/step - loss: 0.0014 - mean_absolute_error: 0.0208\n",
            "\n",
            "Epoch 00008: loss improved from 0.00165 to 0.00138, saving model to weights.h5\n",
            "Epoch 9/10\n",
            "1150/1150 [==============================] - 10s 8ms/step - loss: 0.0014 - mean_absolute_error: 0.0200\n",
            "\n",
            "Epoch 00009: loss improved from 0.00138 to 0.00135, saving model to weights.h5\n",
            "Epoch 10/10\n",
            "1150/1150 [==============================] - 10s 9ms/step - loss: 0.0012 - mean_absolute_error: 0.0198\n",
            "\n",
            "Epoch 00010: loss improved from 0.00135 to 0.00123, saving model to weights.h5\n"
          ],
          "name": "stdout"
        },
        {
          "output_type": "execute_result",
          "data": {
            "text/plain": [
              "<keras.callbacks.History at 0x7f647b3d3a58>"
            ]
          },
          "metadata": {
            "tags": []
          },
          "execution_count": 16
        }
      ]
    },
    {
      "cell_type": "markdown",
      "metadata": {
        "id": "dvFufFaJMjXB",
        "colab_type": "text"
      },
      "source": [
        "The following code represents the test data in the network."
      ]
    },
    {
      "cell_type": "code",
      "metadata": {
        "id": "0yBjjCoCjCo3",
        "colab_type": "code",
        "colab": {}
      },
      "source": [
        "test_price = test_dataset[:, 0:1]\n",
        "complete_dataset = dataset.iloc[:,1::]\n",
        "\n",
        "training_data = complete_dataset[len(complete_dataset) - len(test_dataset) - \n",
        "                                 window_size:].values\n",
        "training_data = min_max_scaler.transform(training_data)\n",
        "\n",
        "\n",
        "X_test = []\n",
        "for i in range(window_size,len(training_data)):\n",
        "    X_test.append(training_data[i-window_size:i, 0:6])\n",
        "X_test = np.array(X_test)\n",
        "\n",
        "calculated_prices = lstm_model.predict(X_test)\n",
        "calculated_prices = min_max_scaler_training.inverse_transform(calculated_prices)\n",
        "\n",
        "training_price = min_max_scaler_training.inverse_transform([training_price])\n",
        "training_price = training_price[0]"
      ],
      "execution_count": 0,
      "outputs": []
    },
    {
      "cell_type": "markdown",
      "metadata": {
        "id": "IY8n4My_X4HO",
        "colab_type": "text"
      },
      "source": [
        "In the following, we plot the tournament set, as well as the previsions and the expected values."
      ]
    },
    {
      "cell_type": "code",
      "metadata": {
        "id": "HXWZWul0X3hH",
        "colab_type": "code",
        "outputId": "2184dcab-47fe-4114-c026-d9e6b0e93f43",
        "colab": {
          "base_uri": "https://localhost:8080/",
          "height": 295
        }
      },
      "source": [
        "plt.plot(np.linspace(0,len(training_price)-1,len(training_price)), \n",
        "         training_price, label = 'Real price tournament', color = 'k')\n",
        "plt.plot(np.linspace(len(training_price),len(training_price)+len(test_price)-1,\n",
        "                     len(test_price)), test_price, label = 'Real price')\n",
        "plt.plot(np.linspace(len(training_price),len(training_price)+len(test_price)-1,\n",
        "                     len(test_price)), calculated_prices, label = 'Prevision')\n",
        "plt.title('BTC prevision')\n",
        "plt.xlabel('Time')\n",
        "plt.ylabel('Value')\n",
        "plt.legend()\n",
        "plt.show()"
      ],
      "execution_count": 0,
      "outputs": [
        {
          "output_type": "display_data",
          "data": {
            "image/png": "[encoded data removed]",
            "text/plain": [
              "<Figure size 432x288 with 1 Axes>"
            ]
          },
          "metadata": {
            "tags": []
          }
        }
      ]
    }
  ]
}